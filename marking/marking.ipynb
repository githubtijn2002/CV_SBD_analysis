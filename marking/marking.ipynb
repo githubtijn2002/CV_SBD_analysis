{
 "cells": [
  {
   "cell_type": "code",
   "execution_count": 1,
   "id": "2864f65a",
   "metadata": {},
   "outputs": [
    {
     "name": "stdout",
     "output_type": "stream",
     "text": [
      "Skipping non-video file: Screenshot_2023-05-02-17-30-09-020_com.google.android.apps.photos.jpg\n",
      "Sampled 10 frames from vids\\VID-20191201-WA0003.mp4 and saved to zimages.\n",
      "Sampled 10 frames from vids\\VID-20200112-WA0002.mp4 and saved to zimages.\n",
      "Sampled 10 frames from vids\\VID-20201004-WA0006.mp4 and saved to zimages.\n",
      "Sampled 10 frames from vids\\VID_20210727_115617~2.mp4 and saved to zimages.\n",
      "Sampled 10 frames from vids\\VID_20211114_152159~2.mp4 and saved to zimages.\n",
      "Sampled 10 frames from vids\\VID_20211224_120346353.mp4 and saved to zimages.\n",
      "Sampled 10 frames from vids\\VID_20220616_205449.mp4 and saved to zimages.\n",
      "Sampled 10 frames from vids\\VID_20220707_134222.mp4 and saved to zimages.\n",
      "Sampled 10 frames from vids\\VID_20220710_105131.mp4 and saved to zimages.\n",
      "Sampled 10 frames from vids\\VID_20220714_182318~2.mp4 and saved to zimages.\n",
      "Sampled 10 frames from vids\\VID_20220828_144321~2.mp4 and saved to zimages.\n",
      "Sampled 10 frames from vids\\VID_20220830_205635~2.mp4 and saved to zimages.\n",
      "Sampled 10 frames from vids\\VID_20220906_103817~2.mp4 and saved to zimages.\n",
      "Sampled 10 frames from vids\\VID_20220908_155443~2.mp4 and saved to zimages.\n",
      "Sampled 10 frames from vids\\VID_20221005_193419~2.mp4 and saved to zimages.\n",
      "Sampled 10 frames from vids\\VID_20221128_184625.mp4 and saved to zimages.\n",
      "Sampled 10 frames from vids\\VID_20221207_141538.mp4 and saved to zimages.\n",
      "Sampled 10 frames from vids\\VID_20221207_142209.mp4 and saved to zimages.\n",
      "Sampled 10 frames from vids\\VID_20221230_143207.mp4 and saved to zimages.\n"
     ]
    }
   ],
   "source": [
    "import os\n",
    "from marking_vids.annot import *\n",
    "from marking_vids.img_processing import *\n",
    "image_dir = 'zimages'\n",
    "video_dir = 'vids'\n",
    "vid_loop(video_dir, image_dir)"
   ]
  },
  {
   "cell_type": "code",
   "execution_count": 2,
   "id": "ee1a4879",
   "metadata": {},
   "outputs": [],
   "source": [
    "import json\n",
    "with open(json_dir + '/annot.json', 'r') as f:\n",
    "    annot = json.load(f)\n"
   ]
  },
  {
   "cell_type": "code",
   "execution_count": null,
   "id": "60acd28e",
   "metadata": {},
   "outputs": [
    {
     "name": "stdout",
     "output_type": "stream",
     "text": [
      "Annotations not saved. Set save_to to a file path to save. Returning annotation dict.\n",
      "Annotations not saved. Set save_to to a file path to save. Returning annotation dict.\n"
     ]
    }
   ],
   "source": [
    "annot_dir(image_dir, json_dir, 'logistics.txt', annot)"
   ]
  }
 ],
 "metadata": {
  "kernelspec": {
   "display_name": "hot",
   "language": "python",
   "name": "python3"
  },
  "language_info": {
   "codemirror_mode": {
    "name": "ipython",
    "version": 3
   },
   "file_extension": ".py",
   "mimetype": "text/x-python",
   "name": "python",
   "nbconvert_exporter": "python",
   "pygments_lexer": "ipython3",
   "version": "3.9.21"
  }
 },
 "nbformat": 4,
 "nbformat_minor": 5
}
